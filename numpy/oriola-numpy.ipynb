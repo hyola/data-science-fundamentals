{
 "cells": [
  {
   "cell_type": "markdown",
   "id": "979c520c-053a-4027-a9a2-f0d242ba45fd",
   "metadata": {},
   "source": [
    "![numpy logo](numpy.png)"
   ]
  },
  {
   "cell_type": "markdown",
   "id": "9b184177-9cc1-4640-b9e6-4793f6c03be7",
   "metadata": {},
   "source": [
    "# <center>Activity 2\n",
    "<center>Prepared by: Princess Nicole Oriola</center>\n",
    "<center>BSCS Data Science III</center>"
   ]
  },
  {
   "cell_type": "markdown",
   "id": "645762d6-0f69-4fbe-beda-caaff952eefb",
   "metadata": {},
   "source": [
    "### Introduction\n",
    "In this activity, I explore various methods and operations using **NumPy**, a powerful library for numerical computing in Python. The goal is to demonstrate array creation, perform a range of NumPy operations, and apply statistical functions to analyze data. For this project, I selected the \"Simple Rainfall Classification Dataset,\" which contains key meteorological variables such as rainfall, temperature, humidity, and wind speed. This dataset was chosen for its simplicity and relevance, making it suitable for exploring statistical relationships.\n",
    "\n",
    "The dataset used in this notebook is sourced from Kaggle: https://www.kaggle.com/datasets/sujithmandala/simple-rainfall-classification-dataset"
   ]
  },
  {
   "cell_type": "markdown",
   "id": "95b5165c-24f7-48b8-b4fa-be49768fca0f",
   "metadata": {},
   "source": [
    "### I. Demonstrate various methods for creating NumPy arrays.\n"
   ]
  },
  {
   "cell_type": "markdown",
   "id": "1de04ff4-4830-449e-b5c8-11055dfb0fb1",
   "metadata": {},
   "source": [
    "import numpy as np"
   ]
  },
  {
   "cell_type": "code",
   "execution_count": 40,
   "id": "7e42b682-dbc5-452f-aeea-91f45a8f600e",
   "metadata": {},
   "outputs": [
    {
     "name": "stdout",
     "output_type": "stream",
     "text": [
      "1D Array: [1 2 3 4 5]\n"
     ]
    }
   ],
   "source": [
    "# creating a 1D NumPy array with 5 elements\n",
    "array_1d = np.array([1, 2, 3, 4, 5])\n",
    "print(\"1D Array:\", array_1d)"
   ]
  },
  {
   "cell_type": "code",
   "execution_count": 42,
   "id": "abd37338-0572-4c23-b5f9-730c127cf8d4",
   "metadata": {},
   "outputs": [
    {
     "name": "stdout",
     "output_type": "stream",
     "text": [
      "2D Array:\n",
      " [[1 2 3]\n",
      " [4 5 6]\n",
      " [7 8 9]]\n"
     ]
    }
   ],
   "source": [
    "# creating a 2D Numpy array (matrix)\n",
    "array_2d = np.array([[1, 2, 3,],\n",
    "                     [4, 5, 6],\n",
    "                     [7, 8, 9]])\n",
    "print(\"2D Array:\\n\", array_2d)"
   ]
  },
  {
   "cell_type": "code",
   "execution_count": 44,
   "id": "cd4faf9c-530b-4bf4-a929-11671838af8c",
   "metadata": {},
   "outputs": [
    {
     "name": "stdout",
     "output_type": "stream",
     "text": [
      "Array of zeros:\n",
      " [[0. 0. 0. 0.]\n",
      " [0. 0. 0. 0.]\n",
      " [0. 0. 0. 0.]\n",
      " [0. 0. 0. 0.]]\n"
     ]
    }
   ],
   "source": [
    "# creating an array of zeros (shape of 4x4)\n",
    "zeros_array = np.zeros((4, 4))\n",
    "print(\"Array of zeros:\\n\", zeros_array)"
   ]
  },
  {
   "cell_type": "code",
   "execution_count": 46,
   "id": "ad551fa8-f071-4fde-99aa-6b4bda3b2335",
   "metadata": {},
   "outputs": [
    {
     "name": "stdout",
     "output_type": "stream",
     "text": [
      "Array of ones:\n",
      " [[1. 1. 1. 1. 1.]\n",
      " [1. 1. 1. 1. 1.]\n",
      " [1. 1. 1. 1. 1.]]\n"
     ]
    }
   ],
   "source": [
    "# creating an array of ones (3, 5)\n",
    "ones_array = np.ones((3, 5))\n",
    "print(\"Array of ones:\\n\", ones_array)"
   ]
  },
  {
   "cell_type": "code",
   "execution_count": 48,
   "id": "9bcb4903-94cb-4f35-8f57-3a75ff2f7a2b",
   "metadata": {},
   "outputs": [
    {
     "name": "stdout",
     "output_type": "stream",
     "text": [
      "Array with a range of values: [0 1 2 3 4 5 6 7 8 9]\n"
     ]
    }
   ],
   "source": [
    "# creating an array with values ranging from 0 to 9\n",
    "range_array = np.arange(10)\n",
    "print(\"Array with a range of values:\", range_array)"
   ]
  },
  {
   "cell_type": "code",
   "execution_count": 50,
   "id": "33d0ace1-aad8-4da2-9762-c353115f116e",
   "metadata": {},
   "outputs": [
    {
     "name": "stdout",
     "output_type": "stream",
     "text": [
      "Array with evenly spaced values: [0.   0.25 0.5  0.75 1.  ]\n"
     ]
    }
   ],
   "source": [
    "# creating an array with 5 evenly spaced values between 0 and a\n",
    "linspace_array = np.linspace(0, 1, 5)\n",
    "print(\"Array with evenly spaced values:\", linspace_array)"
   ]
  },
  {
   "cell_type": "code",
   "execution_count": 54,
   "id": "5a41502f-df09-4f8e-870a-f8edc0a50612",
   "metadata": {},
   "outputs": [
    {
     "name": "stdout",
     "output_type": "stream",
     "text": [
      "Identity Matrix:\n",
      " [[1. 0. 0. 0.]\n",
      " [0. 1. 0. 0.]\n",
      " [0. 0. 1. 0.]\n",
      " [0. 0. 0. 1.]]\n"
     ]
    }
   ],
   "source": [
    "# creating a 4x4 identity matrix (diagonal is 1s and the rest are 0s)\n",
    "identity_matrix = np.eye(4)\n",
    "print(\"Identity Matrix:\\n\", identity_matrix)"
   ]
  },
  {
   "cell_type": "code",
   "execution_count": 66,
   "id": "4b8f1134-9ab6-4a44-8486-68947c4402cb",
   "metadata": {},
   "outputs": [
    {
     "name": "stdout",
     "output_type": "stream",
     "text": [
      "Random array:\n",
      " [[0.49655959 0.26530973 0.41730127]\n",
      " [0.78079064 0.21147845 0.12843992]]\n"
     ]
    }
   ],
   "source": [
    "# creating a 2x3 array of random values between 0 and 1\n",
    "random_array = np.random.rand(2, 3)\n",
    "print(\"Random array:\\n\", random_array)"
   ]
  },
  {
   "cell_type": "markdown",
   "id": "0741d027-46c6-46a8-9ec5-8b129800a615",
   "metadata": {},
   "source": [
    "### II. Perform a range of NumPy operations.\n"
   ]
  },
  {
   "cell_type": "markdown",
   "id": "84e4c0dd-c62f-465c-ba33-5044c67d2b9c",
   "metadata": {},
   "source": [
    "- **Basic Arithmetic Operations** (applied element-wise)\n"
   ]
  },
  {
   "cell_type": "code",
   "execution_count": 72,
   "id": "ba51b252-a7d9-4788-b322-3be94fe9bc1a",
   "metadata": {},
   "outputs": [],
   "source": [
    "array_a = np.array([1, 2, 3])\n",
    "array_b = np.array([4, 5, 6])"
   ]
  },
  {
   "cell_type": "code",
   "execution_count": 74,
   "id": "9534b202-8a4e-48a6-b7d3-f52dde64d075",
   "metadata": {},
   "outputs": [
    {
     "name": "stdout",
     "output_type": "stream",
     "text": [
      "Sum: [5 7 9]\n"
     ]
    }
   ],
   "source": [
    "# adding two arrays\n",
    "sum_array = array_a + array_b\n",
    "print(\"Sum:\", sum_array)"
   ]
  },
  {
   "cell_type": "code",
   "execution_count": 82,
   "id": "f3d3c8d7-553b-4ab3-9e3b-663ab20f02b3",
   "metadata": {},
   "outputs": [
    {
     "name": "stdout",
     "output_type": "stream",
     "text": [
      "Difference: [3 3 3]\n"
     ]
    }
   ],
   "source": [
    "# subtracting two arrays\n",
    "difference_array = array_b - array_a\n",
    "print(\"Difference:\", difference_array)"
   ]
  },
  {
   "cell_type": "code",
   "execution_count": 84,
   "id": "95cb2e46-8913-4c02-9b1e-35ff8ae39ceb",
   "metadata": {},
   "outputs": [
    {
     "name": "stdout",
     "output_type": "stream",
     "text": [
      "Product: [ 4 10 18]\n"
     ]
    }
   ],
   "source": [
    "# multiplying two arrays\n",
    "product_array = array_a * array_b\n",
    "print(\"Product:\", product_array)"
   ]
  },
  {
   "cell_type": "code",
   "execution_count": 86,
   "id": "5d2b3a48-dd2b-4766-9b9a-c4001cc5324f",
   "metadata": {},
   "outputs": [
    {
     "name": "stdout",
     "output_type": "stream",
     "text": [
      "Division: [4.  2.5 2. ]\n"
     ]
    }
   ],
   "source": [
    "# dividing two arrays\n",
    "div_array = array_b / array_a\n",
    "print(\"Division:\", div_array)"
   ]
  },
  {
   "cell_type": "markdown",
   "id": "1a87181f-f794-4b8d-baa9-e56a968e6750",
   "metadata": {},
   "source": [
    "- **Broadcasting** (allows NumPy to perform operations between arrays of different shapes)"
   ]
  },
  {
   "cell_type": "code",
   "execution_count": 99,
   "id": "e81d5f5a-2fea-469a-8e32-8402e3afc30b",
   "metadata": {},
   "outputs": [
    {
     "name": "stdout",
     "output_type": "stream",
     "text": [
      "Broadcasting result (add 100 to each element): [101 102 103]\n"
     ]
    }
   ],
   "source": [
    "# adding a scalar to an array\n",
    "broadcast_array = array_a + 100\n",
    "print(\"Broadcasting result (add 100 to each element):\", broadcast_array)"
   ]
  },
  {
   "cell_type": "markdown",
   "id": "74eecbf2-8b60-43c4-a4a4-043e3b815eb6",
   "metadata": {},
   "source": [
    "- **Aggregation Functions**"
   ]
  },
  {
   "cell_type": "code",
   "execution_count": 104,
   "id": "27ba461a-1017-4e12-ac16-08f1ef9037b1",
   "metadata": {},
   "outputs": [
    {
     "data": {
      "text/plain": [
       "array([[1, 2, 3],\n",
       "       [4, 5, 6],\n",
       "       [7, 8, 9]])"
      ]
     },
     "execution_count": 104,
     "metadata": {},
     "output_type": "execute_result"
    }
   ],
   "source": [
    "array_2d"
   ]
  },
  {
   "cell_type": "code",
   "execution_count": 106,
   "id": "c2a03159-e114-4991-bc58-a65b0ff834a6",
   "metadata": {},
   "outputs": [
    {
     "name": "stdout",
     "output_type": "stream",
     "text": [
      "Sum of all elements: 45\n"
     ]
    }
   ],
   "source": [
    "# sum of all elements\n",
    "total_sum = np.sum(array_2d)\n",
    "print(\"Sum of all elements:\", total_sum)"
   ]
  },
  {
   "cell_type": "code",
   "execution_count": 110,
   "id": "ac42684b-9f56-4ebb-b67b-93077a053ac0",
   "metadata": {},
   "outputs": [
    {
     "name": "stdout",
     "output_type": "stream",
     "text": [
      "Mean of elements: 5.0\n"
     ]
    }
   ],
   "source": [
    "# mean of elements\n",
    "mean_value = np.mean(array_2d)\n",
    "print(\"Mean of elements:\", mean_value)"
   ]
  },
  {
   "cell_type": "code",
   "execution_count": 112,
   "id": "416841b2-7e32-47fb-a03f-90d627ece0de",
   "metadata": {},
   "outputs": [
    {
     "name": "stdout",
     "output_type": "stream",
     "text": [
      "Minimum value: 1\n",
      "Maximum value: 9\n"
     ]
    }
   ],
   "source": [
    "# minimum and maximum values\n",
    "min_value = np.min(array_2d)\n",
    "max_value = np.max(array_2d)\n",
    "\n",
    "print(\"Minimum value:\", min_value)\n",
    "print(\"Maximum value:\", max_value)"
   ]
  },
  {
   "cell_type": "markdown",
   "id": "79859c0d-665f-48f7-adfd-01e5ef3a6542",
   "metadata": {},
   "source": [
    "- **Axis-based Operations** (allows to perform operations along a specific dimension)"
   ]
  },
  {
   "cell_type": "code",
   "execution_count": 121,
   "id": "4ce28805-0c99-4626-80d4-5b0d3640e69f",
   "metadata": {},
   "outputs": [
    {
     "data": {
      "text/plain": [
       "array([[1, 2, 3],\n",
       "       [4, 5, 6],\n",
       "       [7, 8, 9]])"
      ]
     },
     "execution_count": 121,
     "metadata": {},
     "output_type": "execute_result"
    }
   ],
   "source": [
    "array_2d"
   ]
  },
  {
   "cell_type": "code",
   "execution_count": 119,
   "id": "8b385476-45d2-4fed-8ede-3c7f9157e172",
   "metadata": {},
   "outputs": [
    {
     "name": "stdout",
     "output_type": "stream",
     "text": [
      "Sum of each column: [12 15 18]\n"
     ]
    }
   ],
   "source": [
    "# sum along the columns\n",
    "sum_cols = np.sum(array_2d, axis=0)\n",
    "print(\"Sum of each column:\", sum_cols)"
   ]
  },
  {
   "cell_type": "code",
   "execution_count": 123,
   "id": "ae959269-f8ed-483b-8778-1d1669f18b73",
   "metadata": {},
   "outputs": [
    {
     "name": "stdout",
     "output_type": "stream",
     "text": [
      "Sum of each row: [ 6 15 24]\n"
     ]
    }
   ],
   "source": [
    "# sum along the rows\n",
    "sum_rows = np.sum(array_2d, axis=1)\n",
    "print(\"Sum of each row:\", sum_rows)"
   ]
  },
  {
   "cell_type": "markdown",
   "id": "cedcfb58-f892-429c-9d94-adcd1232a560",
   "metadata": {},
   "source": [
    "- **Sorting an Array**"
   ]
  },
  {
   "cell_type": "code",
   "execution_count": 128,
   "id": "cdda1499-9e58-470d-9ba7-761ca507c8a6",
   "metadata": {},
   "outputs": [
    {
     "name": "stdout",
     "output_type": "stream",
     "text": [
      "Sorted array: [1 3 4 5 8]\n"
     ]
    }
   ],
   "source": [
    "# sorting a 1D array\n",
    "unsorted_array = np.array([4, 1, 8, 3, 5])\n",
    "sorted_array = np.sort(unsorted_array)\n",
    "print(\"Sorted array:\", sorted_array)"
   ]
  },
  {
   "cell_type": "code",
   "execution_count": 132,
   "id": "fe8f07f9-0e4f-4380-a6a3-e50d650796f6",
   "metadata": {},
   "outputs": [
    {
     "name": "stdout",
     "output_type": "stream",
     "text": [
      "Row-wise sorted 2D array:\n",
      " [[2 3 8]\n",
      " [1 6 9]\n",
      " [4 5 7]]\n"
     ]
    }
   ],
   "source": [
    "# sorting along an axis in a 2D array\n",
    "unsorted_array_2d = np.array([[3, 8, 2,],\n",
    "                     [6, 1, 9],\n",
    "                     [4, 7, 5]])\n",
    "sorted_2d_array = np.sort(unsorted_array_2d, axis=1)\n",
    "print(\"Row-wise sorted 2D array:\\n\", sorted_2d_array)"
   ]
  },
  {
   "cell_type": "markdown",
   "id": "c0818920-0df0-443c-b580-6857102aa9c6",
   "metadata": {},
   "source": [
    "### III. Read a dataset and convert it into a NumPy array.\n"
   ]
  },
  {
   "cell_type": "code",
   "execution_count": 145,
   "id": "955b34ca-e52e-4ff9-8fee-b07802f3100e",
   "metadata": {},
   "outputs": [],
   "source": [
    "import pandas as pd"
   ]
  },
  {
   "cell_type": "code",
   "execution_count": 147,
   "id": "a3c5c68b-b04b-41cd-9149-5fdf047f982c",
   "metadata": {},
   "outputs": [],
   "source": [
    "# reading the dataset\n",
    "df = pd.read_csv('rainfall.csv')"
   ]
  },
  {
   "cell_type": "code",
   "execution_count": 193,
   "id": "0c3b14b6-9f98-4ca9-9bf9-35cbaa8f4a78",
   "metadata": {},
   "outputs": [
    {
     "data": {
      "text/html": [
       "<div>\n",
       "<style scoped>\n",
       "    .dataframe tbody tr th:only-of-type {\n",
       "        vertical-align: middle;\n",
       "    }\n",
       "\n",
       "    .dataframe tbody tr th {\n",
       "        vertical-align: top;\n",
       "    }\n",
       "\n",
       "    .dataframe thead th {\n",
       "        text-align: right;\n",
       "    }\n",
       "</style>\n",
       "<table border=\"1\" class=\"dataframe\">\n",
       "  <thead>\n",
       "    <tr style=\"text-align: right;\">\n",
       "      <th></th>\n",
       "      <th>date</th>\n",
       "      <th>rainfall</th>\n",
       "      <th>temperature</th>\n",
       "      <th>humidity</th>\n",
       "      <th>wind_speed</th>\n",
       "      <th>weather_condition</th>\n",
       "    </tr>\n",
       "  </thead>\n",
       "  <tbody>\n",
       "    <tr>\n",
       "      <th>0</th>\n",
       "      <td>1/1/2022</td>\n",
       "      <td>12.5</td>\n",
       "      <td>15.2</td>\n",
       "      <td>78</td>\n",
       "      <td>8.5</td>\n",
       "      <td>Rainy</td>\n",
       "    </tr>\n",
       "    <tr>\n",
       "      <th>1</th>\n",
       "      <td>1/2/2022</td>\n",
       "      <td>8.2</td>\n",
       "      <td>17.8</td>\n",
       "      <td>65</td>\n",
       "      <td>5.2</td>\n",
       "      <td>Rainy</td>\n",
       "    </tr>\n",
       "    <tr>\n",
       "      <th>2</th>\n",
       "      <td>1/3/2022</td>\n",
       "      <td>0.0</td>\n",
       "      <td>20.1</td>\n",
       "      <td>52</td>\n",
       "      <td>3.1</td>\n",
       "      <td>Sunny</td>\n",
       "    </tr>\n",
       "    <tr>\n",
       "      <th>3</th>\n",
       "      <td>1/4/2022</td>\n",
       "      <td>3.7</td>\n",
       "      <td>18.6</td>\n",
       "      <td>71</td>\n",
       "      <td>6.7</td>\n",
       "      <td>Rainy</td>\n",
       "    </tr>\n",
       "    <tr>\n",
       "      <th>4</th>\n",
       "      <td>1/5/2022</td>\n",
       "      <td>21.1</td>\n",
       "      <td>14.8</td>\n",
       "      <td>82</td>\n",
       "      <td>9.3</td>\n",
       "      <td>Rainy</td>\n",
       "    </tr>\n",
       "  </tbody>\n",
       "</table>\n",
       "</div>"
      ],
      "text/plain": [
       "       date  rainfall  temperature  humidity  wind_speed weather_condition\n",
       "0  1/1/2022      12.5         15.2        78         8.5             Rainy\n",
       "1  1/2/2022       8.2         17.8        65         5.2             Rainy\n",
       "2  1/3/2022       0.0         20.1        52         3.1             Sunny\n",
       "3  1/4/2022       3.7         18.6        71         6.7             Rainy\n",
       "4  1/5/2022      21.1         14.8        82         9.3             Rainy"
      ]
     },
     "execution_count": 193,
     "metadata": {},
     "output_type": "execute_result"
    }
   ],
   "source": [
    "df.head()"
   ]
  },
  {
   "cell_type": "code",
   "execution_count": 195,
   "id": "4874cf2b-3862-431b-b53a-fa03cac549b7",
   "metadata": {},
   "outputs": [
    {
     "name": "stdout",
     "output_type": "stream",
     "text": [
      "<class 'pandas.core.frame.DataFrame'>\n",
      "RangeIndex: 53 entries, 0 to 52\n",
      "Data columns (total 6 columns):\n",
      " #   Column             Non-Null Count  Dtype  \n",
      "---  ------             --------------  -----  \n",
      " 0   date               53 non-null     object \n",
      " 1   rainfall           53 non-null     float64\n",
      " 2   temperature        53 non-null     float64\n",
      " 3   humidity           53 non-null     int64  \n",
      " 4   wind_speed         53 non-null     float64\n",
      " 5   weather_condition  53 non-null     object \n",
      "dtypes: float64(3), int64(1), object(2)\n",
      "memory usage: 2.6+ KB\n"
     ]
    }
   ],
   "source": [
    "df.info()"
   ]
  },
  {
   "cell_type": "code",
   "execution_count": 149,
   "id": "3d2e3150-9ffa-47bd-9f4b-47836e73bf69",
   "metadata": {},
   "outputs": [],
   "source": [
    "# converting the numerical columns into a NumPy array\n",
    "numeric_columns = df[['rainfall', 'temperature', 'humidity', 'wind_speed']].to_numpy()"
   ]
  },
  {
   "cell_type": "code",
   "execution_count": 151,
   "id": "779ff409-64b6-4742-804f-32346da5c01e",
   "metadata": {},
   "outputs": [
    {
     "name": "stdout",
     "output_type": "stream",
     "text": [
      "NumPy Array of numerical data:\n",
      " [[12.5 15.2 78.   8.5]\n",
      " [ 8.2 17.8 65.   5.2]\n",
      " [ 0.  20.1 52.   3.1]\n",
      " [ 3.7 18.6 71.   6.7]\n",
      " [21.1 14.8 82.   9.3]\n",
      " [15.3 16.5 75.   7.8]\n",
      " [ 6.8 19.2 61.   4.5]\n",
      " [ 0.  21.7 48.   2.9]\n",
      " [11.2 17.3 73.   6.1]\n",
      " [18.6 15.8 79.   8.9]\n",
      " [ 9.5 16.2 72.   5.7]\n",
      " [ 2.1 19.8 58.   3.5]\n",
      " [ 0.  22.4 45.   2.1]\n",
      " [ 7.4 17.9 69.   6.5]\n",
      " [14.9 15.1 81.   8.7]\n",
      " [19.2 16.8 77.   7.2]\n",
      " [ 5.6 18.5 63.   4.9]\n",
      " [ 0.  21.2 51.   3.3]\n",
      " [10.8 17.6 75.   6.7]\n",
      " [16.3 14.5 84.   9.1]\n",
      " [ 3.9 16.1 71.   5.3]\n",
      " [ 0.  19.4 59.   4.1]\n",
      " [ 7.1 18.2 67.   7.1]\n",
      " [12.7 15.7 79.   8.3]\n",
      " [18.4 17.1 76.   6.8]\n",
      " [ 9.8 19.7 62.   4.7]\n",
      " [ 0.  22.9 47.   2.5]\n",
      " [ 6.2 18.5 70.   7.3]\n",
      " [15.5 14.2 83.   9.5]\n",
      " [21.8 16.4 78.   7.6]\n",
      " [11.6 19.1 65.   5.1]\n",
      " [ 0.  21.6 53.   3.7]\n",
      " [ 4.3 17.2 73.   7.5]\n",
      " [ 9.1 15.4 81.   8.9]\n",
      " [17.9 16.7 77.   6.2]\n",
      " [ 7.5 18.9 64.   4.3]\n",
      " [ 0.  22.1 49.   2.7]\n",
      " [ 5.8 17.8 72.   6.9]\n",
      " [13.2 14.7 85.   9.3]\n",
      " [19.6 16.2 79.   7.8]\n",
      " [10.4 19.5 66.   5.5]\n",
      " [ 0.  23.4 44.   3.1]\n",
      " [ 6.7 18.1 74.   7.7]\n",
      " [14.8 13.9 87.   9.9]\n",
      " [20.5 15.6 81.   8.2]\n",
      " [ 8.3 19.2 68.   6.1]\n",
      " [ 0.  22.7 51.   4.5]\n",
      " [ 5.1 17.4 75.   8.3]\n",
      " [11.9 14.1 89.  10.5]\n",
      " [17.3 15.9 83.   8.6]\n",
      " [ 9.6 18.6 71.   6.7]\n",
      " [ 0.  21.3 55.   5.1]\n",
      " [ 7.4 16.8 77.   8.9]]\n"
     ]
    }
   ],
   "source": [
    "print(\"NumPy Array of numerical data:\\n\", numeric_columns)"
   ]
  },
  {
   "cell_type": "code",
   "execution_count": 153,
   "id": "5b7daa3a-5da0-4350-8f23-6525fc0b47f3",
   "metadata": {},
   "outputs": [
    {
     "name": "stdout",
     "output_type": "stream",
     "text": [
      "Shape of the NumPy array: (53, 4)\n"
     ]
    }
   ],
   "source": [
    "# checking the shape of the NumPy array\n",
    "print(\"Shape of the NumPy array:\", numeric_columns.shape)"
   ]
  },
  {
   "cell_type": "code",
   "execution_count": 155,
   "id": "5f6a6abc-1bd7-4dbd-8712-390bef5e4fe8",
   "metadata": {},
   "outputs": [
    {
     "name": "stdout",
     "output_type": "stream",
     "text": [
      "Data type of elements: float64\n"
     ]
    }
   ],
   "source": [
    "# checking the data type of elements\n",
    "print(\"Data type of elements:\", numeric_columns.dtype)"
   ]
  },
  {
   "cell_type": "markdown",
   "id": "2406292f-9677-4d44-b7cb-16b1c745d286",
   "metadata": {},
   "source": [
    "### IV. Apply statistical functions to the NumPy array.\n"
   ]
  },
  {
   "cell_type": "markdown",
   "id": "91065e25-1279-4f03-b255-1c58e0591c9a",
   "metadata": {},
   "source": [
    "- **Mean** (average value)"
   ]
  },
  {
   "cell_type": "code",
   "execution_count": 172,
   "id": "bb5f8198-34b1-4df3-9094-f4b88a9bfe93",
   "metadata": {},
   "outputs": [
    {
     "name": "stdout",
     "output_type": "stream",
     "text": [
      "Mean of each column: [ 9.0490566  17.9509434  69.24528302  6.40377358]\n"
     ]
    }
   ],
   "source": [
    "# mean of each column\n",
    "mean_values = np.mean(numeric_columns, axis=0)\n",
    "print(\"Mean of each column:\", mean_values)"
   ]
  },
  {
   "cell_type": "markdown",
   "id": "fd7b6e1f-24f5-47dc-8d31-6d6181cd6857",
   "metadata": {},
   "source": [
    "- **Median** (middle value)"
   ]
  },
  {
   "cell_type": "code",
   "execution_count": 175,
   "id": "edf0c88f-4b7f-44f5-a64b-338a82f48f2e",
   "metadata": {},
   "outputs": [
    {
     "name": "stdout",
     "output_type": "stream",
     "text": [
      "Median of each column: [ 8.3 17.8 72.   6.7]\n"
     ]
    }
   ],
   "source": [
    "# median of each column\n",
    "median_values = np.median(numeric_columns, axis=0)\n",
    "print(\"Median of each column:\", median_values)"
   ]
  },
  {
   "cell_type": "markdown",
   "id": "43ba4350-aa09-4b4c-a63a-f81b08991801",
   "metadata": {},
   "source": [
    "- **Standard Deviation** (how spread out the values are from the mean)"
   ]
  },
  {
   "cell_type": "code",
   "execution_count": 178,
   "id": "cbf5f28d-f258-4e37-8111-2123e8ff6218",
   "metadata": {},
   "outputs": [
    {
     "name": "stdout",
     "output_type": "stream",
     "text": [
      "Standard deviation of each column: [ 6.6488933   2.47695969 11.85590476  2.1881294 ]\n"
     ]
    }
   ],
   "source": [
    "# standard deviation of each column\n",
    "std_values = np.std(numeric_columns, axis=0)\n",
    "print(\"Standard deviation of each column:\", std_values)"
   ]
  },
  {
   "cell_type": "markdown",
   "id": "e490c8e6-0f09-4b7d-9d1f-378efcd6b9da",
   "metadata": {},
   "source": [
    "- **Variance** (how much the data varies in each column)"
   ]
  },
  {
   "cell_type": "code",
   "execution_count": 181,
   "id": "2c0aaab4-074e-4a4d-9ffc-9b225b948138",
   "metadata": {},
   "outputs": [
    {
     "name": "stdout",
     "output_type": "stream",
     "text": [
      "Variance of each column: [ 44.20778213   6.1353293  140.56247775   4.78791029]\n"
     ]
    }
   ],
   "source": [
    "# variance of each column\n",
    "variance_values = np.var(numeric_columns, axis=0)\n",
    "print(\"Variance of each column:\", variance_values)"
   ]
  },
  {
   "cell_type": "markdown",
   "id": "c3c9ae85-421c-4168-83c4-fed2f9c85bc5",
   "metadata": {},
   "source": [
    "- **Minimum and Maximum** (can help identify extreme data points)"
   ]
  },
  {
   "cell_type": "code",
   "execution_count": 186,
   "id": "8f589ee7-e452-4e36-9869-8a9734643eaa",
   "metadata": {},
   "outputs": [
    {
     "name": "stdout",
     "output_type": "stream",
     "text": [
      "Minimum values of each column: [ 0.  13.9 44.   2.1]\n",
      "Maximum values of each column: [21.8 23.4 89.  10.5]\n"
     ]
    }
   ],
   "source": [
    "# minimum values of each column\n",
    "min_values = np.min(numeric_columns, axis=0)\n",
    "print(\"Minimum values of each column:\", min_values)\n",
    "\n",
    "# maximum values of each column\n",
    "max_values = np.max(numeric_columns, axis=0)\n",
    "print(\"Maximum values of each column:\", max_values)"
   ]
  },
  {
   "cell_type": "markdown",
   "id": "e4b1f06f-3159-48a3-a155-300d05e9b3f5",
   "metadata": {},
   "source": [
    "- **Sum of Values**"
   ]
  },
  {
   "cell_type": "code",
   "execution_count": 189,
   "id": "6ecd6e46-a721-430e-975a-1791af0a2cfd",
   "metadata": {},
   "outputs": [
    {
     "name": "stdout",
     "output_type": "stream",
     "text": [
      "Sum of values in each column: [ 479.6  951.4 3670.   339.4]\n"
     ]
    }
   ],
   "source": [
    "# sum of values in each column\n",
    "sum_values = np.sum(numeric_columns, axis=0)\n",
    "print(\"Sum of values in each column:\", sum_values)"
   ]
  }
 ],
 "metadata": {
  "kernelspec": {
   "display_name": "Python 3 (ipykernel)",
   "language": "python",
   "name": "python3"
  },
  "language_info": {
   "codemirror_mode": {
    "name": "ipython",
    "version": 3
   },
   "file_extension": ".py",
   "mimetype": "text/x-python",
   "name": "python",
   "nbconvert_exporter": "python",
   "pygments_lexer": "ipython3",
   "version": "3.11.7"
  }
 },
 "nbformat": 4,
 "nbformat_minor": 5
}
